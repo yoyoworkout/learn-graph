{
  "cells": [
    {
      "cell_type": "markdown",
      "source": [
        "ALGO DE DEDOUBLONNAGE DE LISTE DE ARRETES\n",
        "============================================================================"
      ],
      "metadata": {}
    },
    {
      "cell_type": "markdown",
      "source": [
        "Deux arrêtes E1 et E2 sont égales si les sommets de la première sont les sommets de la seconde , indépendemment de l'ordre."
      ],
      "metadata": {}
    },
    {
      "cell_type": "code",
      "source": [
        "# exemple de graphe\n",
        "vertices = [\"A\" , \"B\" , \"D\" , \"E\" , \"G\" ]\n",
        "edges =[ (\"A\",\"B\") , (\"A\",\"D\") , (\"B\",\"A\") , (\"D\",\"G\") , (\"D\",\"E\") , (\"E\",\"D\") , (\"G\",\"D\") ]\n",
        "\n",
        "print (edges)"
      ],
      "outputs": [
        {
          "output_type": "stream",
          "name": "stdout",
          "text": [
            "[('A', 'B'), ('A', 'D'), ('B', 'A'), ('D', 'G'), ('D', 'E'), ('E', 'D'), ('G', 'D')]\n"
          ]
        }
      ],
      "execution_count": 19,
      "metadata": {
        "collapsed": false,
        "outputHidden": false,
        "inputHidden": false
      }
    },
    {
      "cell_type": "code",
      "source": [
        "def is_same(e1,e2):\n",
        "        return e1[0]==e2[1] and e1[1]==e2[0]\n",
        "print( is_same( (\"A\",\"B\") , (\"A\",\"C\") ) )\n",
        "print( is_same( (\"A\",\"B\") , (\"B\",\"A\") ) )"
      ],
      "outputs": [
        {
          "output_type": "stream",
          "name": "stdout",
          "text": [
            "False\n",
            "True\n"
          ]
        }
      ],
      "execution_count": 20,
      "metadata": {
        "collapsed": false,
        "outputHidden": false,
        "inputHidden": false
      }
    },
    {
      "cell_type": "code",
      "source": [
        "lst = [10 , 20 , 30 , 40, 50, 60 , 80 , 90]\n",
        "del lst[0]      # supprimer à un indice donné\n",
        "lst.remove(90)  # supprimer un élément donné\n",
        "print ( lst )"
      ],
      "outputs": [
        {
          "output_type": "stream",
          "name": "stdout",
          "text": [
            "[20, 30, 40, 50, 60, 80]\n"
          ]
        }
      ],
      "execution_count": 21,
      "metadata": {
        "collapsed": false,
        "outputHidden": false,
        "inputHidden": false
      }
    },
    {
      "cell_type": "code",
      "source": [
        "lst[2:]         # tranche depuis l'indice 2 , jusqu'à la fin"
      ],
      "outputs": [
        {
          "output_type": "execute_result",
          "execution_count": 22,
          "data": {
            "text/plain": [
              "[40, 50, 60, 80]"
            ]
          },
          "metadata": {}
        }
      ],
      "execution_count": 22,
      "metadata": {
        "collapsed": false,
        "outputHidden": false,
        "inputHidden": false
      }
    },
    {
      "cell_type": "code",
      "source": [
        "def deduplicate(l):\n",
        "    def is_same(e1,e2):\n",
        "        return e1[0]==e2[1] and e1[1]==e2[0]\n",
        "    for idx, curr in enumerate(l):\n",
        "        for edge in l[idx:]:\n",
        "            if is_same(curr,edge):\n",
        "                l.remove(edge)\n",
        "                break\n",
        "deduplicate(edges)\n",
        "print( edges )\n",
        "    "
      ],
      "outputs": [
        {
          "output_type": "stream",
          "name": "stdout",
          "text": [
            "[('A', 'B'), ('A', 'D'), ('D', 'G'), ('D', 'E')]\n"
          ]
        }
      ],
      "execution_count": 23,
      "metadata": {
        "collapsed": false,
        "outputHidden": false,
        "inputHidden": false
      }
    },
    {
      "cell_type": "markdown",
      "source": [
        "***************************************************************************"
      ],
      "metadata": {}
    },
    {
      "cell_type": "markdown",
      "source": [
        "> **algorithme** : \n",
        "> pour chaque élément  \n",
        "> - vérifier le doublon avec tous les suivants  \n",
        "> - si un doublon est trouvé ,   \n",
        ">       - supprimer la deuxième occurrence  \n",
        ">       - passer directement à l'élément suivant\n"
      ],
      "metadata": {}
    }
  ],
  "metadata": {
    "kernel_info": {
      "name": "python3"
    },
    "language_info": {
      "name": "python",
      "version": "3.6.3",
      "mimetype": "text/x-python",
      "codemirror_mode": {
        "name": "ipython",
        "version": 3
      },
      "pygments_lexer": "ipython3",
      "nbconvert_exporter": "python",
      "file_extension": ".py"
    },
    "kernelspec": {
      "name": "python3",
      "language": "python",
      "display_name": "Python 3"
    },
    "nteract": {
      "version": "0.14.5"
    }
  },
  "nbformat": 4,
  "nbformat_minor": 0
}