{
 "cells": [
  {
   "cell_type": "markdown",
   "metadata": {},
   "source": [
    "GRAPHES : REPRESENTATION\n",
    "======================================================================="
   ]
  },
  {
   "cell_type": "markdown",
   "metadata": {},
   "source": [
    "> ***Objet***   \n",
    "> Ce document montre comment représenter la structure de donnée **Graphe** en Python.  \n",
    "> On utilisera plusieurs formes de représentation: \n",
    "> - un schéma\n",
    "> - une liste d'adjacence\n",
    "> - une matrice d'adjacence"
   ]
  },
  {
   "cell_type": "markdown",
   "metadata": {},
   "source": [
    "***********************************************************************"
   ]
  },
  {
   "cell_type": "markdown",
   "metadata": {},
   "source": [
    "I - DEFINITION DU GRAPHE\n",
    "======================================================================="
   ]
  },
  {
   "cell_type": "markdown",
   "metadata": {},
   "source": [
    "Un graphe est donné par son _ensemble de sommets_ `V` ( **Vertex** ) et son _ensemble d'arrêtes_ `E` ( **Edge** ).  \n",
    "Chaque sommet est désigné par un identifiant ( on prend une lettre pour l'aspect visuel ).  \n",
    "Chaque arrête est désignée par un tuple `(id_sommet_départ, id_sommet_arrivée )`.  \n"
   ]
  },
  {
   "cell_type": "markdown",
   "metadata": {},
   "source": [
    "![GRAPHE](./__assets__/001.png)\n",
    "*Exemple de graphe non orienté*"
   ]
  },
  {
   "cell_type": "markdown",
   "metadata": {},
   "source": [
    "II - REPRESENTATION PAR ENSEMBLES\n",
    "=======================================================================\n"
   ]
  },
  {
   "cell_type": "code",
   "execution_count": 9,
   "metadata": {},
   "outputs": [],
   "source": [
    "class Graph:\n",
    "    \n",
    "    def __init__(self, vertices=None, edges=None, directed=False ):\n",
    "        self.vertices = sorted(vertices) or list()  # could be a set !\n",
    "        self.edges = edges or list()        # could be a set !\n",
    "        self.directed = directed\n",
    "    \n",
    "    def __str__(self):\n",
    "        return  \"GRAPH : \\n\"  \\\n",
    "                \"  - vertices = {0} \\n\" \\\n",
    "                \"  - edges = {1} \\n\".format(self.vertices , self.edges)\n"
   ]
  },
  {
   "cell_type": "code",
   "execution_count": 10,
   "metadata": {
    "inputHidden": false,
    "outputHidden": false
   },
   "outputs": [
    {
     "name": "stdout",
     "output_type": "stream",
     "text": [
      "GRAPH : \n",
      "  - vertices = ['A', 'B', 'C', 'E', 'F'] \n",
      "  - edges = [('A', 'B'), ('A', 'C'), ('B', 'E'), ('B', 'C'), ('C', 'E'), ('C', 'F')] \n",
      "\n"
     ]
    }
   ],
   "source": [
    "v = [ 'A', 'B', 'E', 'F', 'C' ]  # unsorted\n",
    "e = [ ('A','B') , ('A','C') , ('B','E') , ('B','C') , ('C','E') , ('C','F') ]\n",
    "\n",
    "g = Graph(v, e)\n",
    "\n",
    "print(g)\n"
   ]
  },
  {
   "cell_type": "markdown",
   "metadata": {},
   "source": [
    "### Problème de doublons d'arrêtes\n",
    "\n",
    "Un premier problème se présente :  ce graphe est non orienté , on aurait pu dénombrer tous les sens des arrêtes pour la liste d'arrêtes .  \n",
    "\n",
    "```python\n",
    "\n",
    "e = [ \n",
    "    ('A','B') , ('B','A') , ('A','C') , ('C','A') , \n",
    "    ('B','E') , ('E','B') , ('B','C') , ('C','B') , \n",
    "    ('C','E') , ('E','C') , ('C','F') , ('F','C') ,\n",
    "] \n",
    "\n",
    "```\n",
    "\n",
    "et avoir alors une redondance inutile dans la représentation.  "
   ]
  },
  {
   "cell_type": "markdown",
   "metadata": {},
   "source": [
    "`E1` et `E2` sont deux arrêtes identiques si :  \n",
    "\n",
    "```python \n",
    "    E1[0] == E2[0] and E1[1] == E2[1]  or  E1[0] == E2[1] and E1[1] == E2[0] \n",
    "```\n",
    "\n",
    "en pratique , on peut supposer qu'une arrête n'a pas été inscrite n fois sur la même séquence , donc on ne s'intéresse qu'à la dernière partie du choix  \n",
    "\n",
    "```python\n",
    "    E1[0] == E2[1] and E1[1] == E2[0]\n",
    "```"
   ]
  },
  {
   "cell_type": "markdown",
   "metadata": {},
   "source": [
    "##### Comment dédoublonner ?  \n",
    "\n",
    "parcourir la collection d'arrête , \n",
    "- pour chaque arrête `curr_e` :  \n",
    "    - vérifier pour chaque suivante `other_e` qu'elle n'est pas identique\n",
    "    - supprimer cette dernière le cas échéant."
   ]
  },
  {
   "cell_type": "code",
   "execution_count": 13,
   "metadata": {},
   "outputs": [
    {
     "data": {
      "text/plain": [
       "[('A', 'B'), ('A', 'D'), ('D', 'G'), ('D', 'E'), ('G', 'K')]"
      ]
     },
     "execution_count": 13,
     "metadata": {},
     "output_type": "execute_result"
    }
   ],
   "source": [
    "def dedulicate_edges(edges):\n",
    "\n",
    "    def same_edge(e1,e2):\n",
    "        return e1[0]==e2[1] and e1[1]==e2[0]\n",
    "    \n",
    "    for idx,current in enumerate(edges):      # tuple (index, value) unpacked\n",
    "        for other in edges[idx:]:             # slice rest of the list\n",
    "            if same_edge(current,other):\n",
    "                edges.remove(other)\n",
    "                break                         # assume only 1 duplicate\n",
    "\n",
    "edges_demo =[ \n",
    "    (\"A\",\"B\") , (\"A\",\"D\") , \n",
    "    (\"B\",\"A\") , (\"D\",\"G\") , \n",
    "    (\"D\",\"E\") , (\"E\",\"D\") , \n",
    "    (\"G\",\"D\") , (\"G\",\"K\") \n",
    "]\n",
    "\n",
    "dedulicate_edges(edges_demo)\n",
    "edges_demo"
   ]
  },
  {
   "cell_type": "markdown",
   "metadata": {},
   "source": [
    "***********************************************************************"
   ]
  },
  {
   "cell_type": "markdown",
   "metadata": {},
   "source": [
    "II - REPRESENTATION PAR SCHEMA\n",
    "======================================================================="
   ]
  },
  {
   "cell_type": "markdown",
   "metadata": {},
   "source": [
    "1. Le graphe est transformé en dataframe **pandas**  \n",
    "    - dictionnaire origine et fin de deux listes des liaisons         \n",
    "2. Le graphe est instancié par **networkx**\n",
    "    - l'objet obtenu (graphe networkx) peut être affiché"
   ]
  },
  {
   "cell_type": "code",
   "execution_count": 14,
   "metadata": {},
   "outputs": [],
   "source": [
    "def graph_to_edgelist(graph):\n",
    "    edgelist = {\"from\":list(), \"to\":list()}\n",
    "    for edge in graph.edges:\n",
    "        edgelist[\"from\"].append(edge[0])\n",
    "        edgelist[\"to\"].append(edge[1])\n",
    "    return edgelist\n"
   ]
  },
  {
   "cell_type": "code",
   "execution_count": 15,
   "metadata": {},
   "outputs": [
    {
     "data": {
      "text/plain": [
       "{'from': ['A', 'A', 'B', 'B', 'C', 'C'], 'to': ['B', 'C', 'E', 'C', 'E', 'F']}"
      ]
     },
     "execution_count": 15,
     "metadata": {},
     "output_type": "execute_result"
    }
   ],
   "source": [
    "edge_dict = graph_to_edgelist(g)\n",
    "edge_dict\n"
   ]
  },
  {
   "cell_type": "markdown",
   "metadata": {},
   "source": [
    "On peut utiliser les bibliothèques suivantes pour tracer le graphe :   \n",
    "- numpy\n",
    "- pandas \n",
    "- networkx\n",
    "- matplotlib"
   ]
  },
  {
   "cell_type": "code",
   "execution_count": 16,
   "metadata": {},
   "outputs": [
    {
     "data": {
      "text/html": [
       "<div>\n",
       "<style scoped>\n",
       "    .dataframe tbody tr th:only-of-type {\n",
       "        vertical-align: middle;\n",
       "    }\n",
       "\n",
       "    .dataframe tbody tr th {\n",
       "        vertical-align: top;\n",
       "    }\n",
       "\n",
       "    .dataframe thead th {\n",
       "        text-align: right;\n",
       "    }\n",
       "</style>\n",
       "<table border=\"1\" class=\"dataframe\">\n",
       "  <thead>\n",
       "    <tr style=\"text-align: right;\">\n",
       "      <th></th>\n",
       "      <th>from</th>\n",
       "      <th>to</th>\n",
       "    </tr>\n",
       "  </thead>\n",
       "  <tbody>\n",
       "    <tr>\n",
       "      <th>0</th>\n",
       "      <td>A</td>\n",
       "      <td>B</td>\n",
       "    </tr>\n",
       "    <tr>\n",
       "      <th>1</th>\n",
       "      <td>A</td>\n",
       "      <td>C</td>\n",
       "    </tr>\n",
       "    <tr>\n",
       "      <th>2</th>\n",
       "      <td>B</td>\n",
       "      <td>E</td>\n",
       "    </tr>\n",
       "    <tr>\n",
       "      <th>3</th>\n",
       "      <td>B</td>\n",
       "      <td>C</td>\n",
       "    </tr>\n",
       "    <tr>\n",
       "      <th>4</th>\n",
       "      <td>C</td>\n",
       "      <td>E</td>\n",
       "    </tr>\n",
       "    <tr>\n",
       "      <th>5</th>\n",
       "      <td>C</td>\n",
       "      <td>F</td>\n",
       "    </tr>\n",
       "  </tbody>\n",
       "</table>\n",
       "</div>"
      ],
      "text/plain": [
       "  from to\n",
       "0    A  B\n",
       "1    A  C\n",
       "2    B  E\n",
       "3    B  C\n",
       "4    C  E\n",
       "5    C  F"
      ]
     },
     "metadata": {},
     "output_type": "display_data"
    }
   ],
   "source": [
    "import pandas as pd\n",
    "\n",
    "# construction de la DataFrame pandas\n",
    "df = pd.DataFrame(edge_dict)\n",
    "display(df)\n",
    " "
   ]
  },
  {
   "cell_type": "code",
   "execution_count": 19,
   "metadata": {},
   "outputs": [
    {
     "data": {
      "image/png": "[encoded data removed]",
      "text/plain": [
       "<Figure size 432x288 with 1 Axes>"
      ]
     },
     "metadata": {},
     "output_type": "display_data"
    }
   ],
   "source": [
    "import networkx as nx\n",
    "\n",
    "# construit le graphe d'après la DataFrame\n",
    "G=nx.from_pandas_edgelist(df, 'from', 'to')\n",
    " \n",
    "# et trace le graphe avec quelques options\n",
    "nx.draw(G, \n",
    "        with_labels=True       , \n",
    "        node_size=1000         , \n",
    "        node_color=\"skyblue\"   , \n",
    "        node_shape=\"o\"         , \n",
    "        alpha=1                , \n",
    "        linewidths=4           , \n",
    "        font_size=20           , \n",
    "        font_color=\"grey\"      , \n",
    "        font_weight=\"bold\"     , \n",
    "        width=2                , \n",
    "        edge_color=\"grey\"      ,\n",
    "       )\n"
   ]
  },
  {
   "cell_type": "markdown",
   "metadata": {},
   "source": [
    "*Graphe exemple*"
   ]
  },
  {
   "cell_type": "markdown",
   "metadata": {},
   "source": [
    "***********************************************************************"
   ]
  },
  {
   "cell_type": "markdown",
   "metadata": {},
   "source": [
    "III - REPRESENTATION PAR LISTE D'ADJACENCE\n",
    "======================================================================="
   ]
  },
  {
   "cell_type": "markdown",
   "metadata": {},
   "source": [
    "On utilise un dictionnaire :  \n",
    "\n",
    "```python \n",
    "gal = { \n",
    "    'A' : ['B','C']       ,\n",
    "    'B' : ['A','C','E']   ,\n",
    "    'C' : ['B','E','F']   ,\n",
    "    'E' : ['B','C']       ,\n",
    "    'F' : ['C']           ,\n",
    "}\n",
    "```\n"
   ]
  },
  {
   "cell_type": "markdown",
   "metadata": {},
   "source": [
    "### Sens : ensemble -> liste d'adjacence"
   ]
  },
  {
   "cell_type": "markdown",
   "metadata": {},
   "source": [
    "On doit passer de `G(Vertices,Edges)` à `AdjacencyList(dict)` , mais il nous faut tenir compte des relations réciproques, donc dupliquer les arrêtes en orientation inverse.\n",
    "\n"
   ]
  },
  {
   "cell_type": "code",
   "execution_count": 20,
   "metadata": {},
   "outputs": [
    {
     "data": {
      "text/plain": [
       "[('A', 'B'),\n",
       " ('B', 'A'),\n",
       " ('A', 'C'),\n",
       " ('C', 'A'),\n",
       " ('B', 'E'),\n",
       " ('E', 'B'),\n",
       " ('B', 'C'),\n",
       " ('C', 'B'),\n",
       " ('C', 'E'),\n",
       " ('E', 'C'),\n",
       " ('C', 'F'),\n",
       " ('F', 'C')]"
      ]
     },
     "execution_count": 20,
     "metadata": {},
     "output_type": "execute_result"
    }
   ],
   "source": [
    "# duplication des arrêtes\n",
    "def full_edges_list(graph):\n",
    "    fulllist = list()\n",
    "    for edge in graph.edges:\n",
    "        t1 = edge\n",
    "        t2 = edge[1],edge[0]\n",
    "        fulllist.append(t1)\n",
    "        fulllist.append(t2)\n",
    "    return fulllist\n",
    "\n",
    "fel = full_edges_list(g)\n",
    "fel"
   ]
  },
  {
   "cell_type": "code",
   "execution_count": 22,
   "metadata": {},
   "outputs": [
    {
     "data": {
      "text/plain": [
       "{'A': ['B', 'C'],\n",
       " 'B': ['A', 'E', 'C'],\n",
       " 'C': ['A', 'B', 'E', 'F'],\n",
       " 'E': ['B', 'C'],\n",
       " 'F': ['C']}"
      ]
     },
     "execution_count": 22,
     "metadata": {},
     "output_type": "execute_result"
    }
   ],
   "source": [
    "def to_adjacency_list(graph):\n",
    "    gal = {x:list() for x in graph.vertices}\n",
    "    all_edges = full_edges_list(graph)\n",
    "    for edge in full_edges_list(graph):\n",
    "        v1,v2 = edge # unpacked\n",
    "        gal[v1].append(v2)\n",
    "    return gal\n",
    "\n",
    "galdemo = to_adjacency_list(g)\n",
    "galdemo"
   ]
  },
  {
   "cell_type": "markdown",
   "metadata": {},
   "source": [
    "### Sens : liste d'ajacence -> ensemble"
   ]
  },
  {
   "cell_type": "markdown",
   "metadata": {},
   "source": [
    "On doit passer de `AdjacencyList(dict)` à `G(Vertices,Edges)`, mais il nous faut supprimer  les relations réciproques, donc dédoublonner les arrêtes en orientation inverse."
   ]
  },
  {
   "cell_type": "code",
   "execution_count": 27,
   "metadata": {},
   "outputs": [
    {
     "name": "stdout",
     "output_type": "stream",
     "text": [
      "GRAPH : \n",
      "  - vertices = ['A', 'B', 'C', 'E', 'F'] \n",
      "  - edges = [('A', 'B'), ('A', 'C'), ('B', 'E'), ('B', 'C'), ('C', 'E'), ('C', 'F')] \n",
      "\n"
     ]
    }
   ],
   "source": [
    "def from_adjacency_list(al: dict) -> Graph:\n",
    "    vert_list = [v for v in al.keys()]\n",
    "    edge_list = list()\n",
    "    for v in vert_list:\n",
    "        neighbors = al[v]\n",
    "        for n in neighbors:\n",
    "            edge = v,n\n",
    "            edge_list.append( edge )\n",
    "    dedulicate_edges(edge_list)\n",
    "    return Graph(vertices=vert_list,edges=edge_list,directed=False)\n",
    "\n",
    "g2 = from_adjacency_list(galdemo)\n",
    "print(g2)"
   ]
  },
  {
   "cell_type": "markdown",
   "metadata": {},
   "source": [
    "***********************************************************************"
   ]
  },
  {
   "cell_type": "markdown",
   "metadata": {},
   "source": [
    "IV - REPRESENTATION PAR MATRICE D'ADJACENCE\n",
    "======================================================================="
   ]
  },
  {
   "cell_type": "markdown",
   "metadata": {},
   "source": [
    "On veut représenter le graphe par une matrice de {V}X{V}.  \n",
    "Cette matrice sera symétrique carrée pour un graphe non orienté.   \n"
   ]
  },
  {
   "cell_type": "markdown",
   "metadata": {},
   "source": [
    "### Sans bibliothèque"
   ]
  },
  {
   "cell_type": "code",
   "execution_count": 25,
   "metadata": {},
   "outputs": [
    {
     "data": {
      "text/plain": [
       "[[0, 1, 1, 0, 0],\n",
       " [1, 0, 1, 1, 0],\n",
       " [1, 1, 0, 1, 1],\n",
       " [0, 1, 1, 0, 0],\n",
       " [0, 0, 1, 0, 0]]"
      ]
     },
     "execution_count": 25,
     "metadata": {},
     "output_type": "execute_result"
    }
   ],
   "source": [
    "def to_adjacency_matrix(graph):\n",
    "    dim = range( len(graph.vertices) )\n",
    "    matrix_labels = graph.vertices\n",
    "    m = [[0 for c in dim] for l in dim ]\n",
    "    all_edges = full_edges_list(graph)\n",
    "    for edge in all_edges:\n",
    "        line = matrix_labels.index(edge[0])\n",
    "        col  = matrix_labels.index(edge[1])\n",
    "        m[line][col]=1\n",
    "    return m\n",
    "\n",
    "mat = to_adjacency_matrix(g)\n",
    "mat"
   ]
  },
  {
   "cell_type": "markdown",
   "metadata": {},
   "source": [
    "### Avec la bibliothèque numpy"
   ]
  },
  {
   "cell_type": "code",
   "execution_count": 26,
   "metadata": {},
   "outputs": [
    {
     "data": {
      "text/plain": [
       "array([[0, 1, 1, 0, 0],\n",
       "       [1, 0, 1, 1, 0],\n",
       "       [1, 1, 0, 1, 1],\n",
       "       [0, 1, 1, 0, 0],\n",
       "       [0, 0, 1, 0, 0]])"
      ]
     },
     "execution_count": 26,
     "metadata": {},
     "output_type": "execute_result"
    }
   ],
   "source": [
    "import numpy as np\n",
    "\n",
    "def to_numpy_matrix(graph):\n",
    "    dim = len(graph.vertices)\n",
    "    m = np.zeros( (dim,dim),dtype=int )\n",
    "    all_edges = full_edges_list(graph)\n",
    "    for edge in all_edges:\n",
    "        line = graph.vertices.index(edge[0])\n",
    "        col  = graph.vertices.index(edge[1])\n",
    "        m[line][col]=1\n",
    "    return m\n",
    "\n",
    "nmat = to_numpy_matrix(g)\n",
    "nmat"
   ]
  },
  {
   "cell_type": "markdown",
   "metadata": {},
   "source": [
    "### Sens : matrice -> ensemble"
   ]
  },
  {
   "cell_type": "code",
   "execution_count": 44,
   "metadata": {},
   "outputs": [
    {
     "name": "stdout",
     "output_type": "stream",
     "text": [
      "['A', 'B', 'C']\n",
      "value at 0 :  A\n",
      "{'A': [], 'B': [], 'C': []}\n"
     ]
    }
   ],
   "source": [
    "arr = [ [10,20,30] , [40,50,60] , [70,80,90]] #3X3\n",
    "lstvert = [chr( ord(\"A\") + x) for x in range(len(arr))]\n",
    "print(lstvert)\n",
    "print(\"value at 0 : \" , lstvert[0])\n",
    "\n",
    "dictedge = {x:list() for x in lstvert}\n",
    "print(dictedge)"
   ]
  },
  {
   "cell_type": "code",
   "execution_count": 53,
   "metadata": {},
   "outputs": [
    {
     "data": {
      "text/plain": [
       "{'A': ['B', 'C'],\n",
       " 'B': ['A', 'C', 'E'],\n",
       " 'C': ['A', 'B', 'E', 'F'],\n",
       " 'E': ['B', 'C'],\n",
       " 'F': ['C']}"
      ]
     },
     "execution_count": 53,
     "metadata": {},
     "output_type": "execute_result"
    }
   ],
   "source": [
    "def from_adjacency_matrix(mat, vert_list):\n",
    "    dim = len(mat) \n",
    "    adj_list  = {x:list() for x in vert_list}\n",
    "    for c in range(dim):\n",
    "        for l in range(dim):\n",
    "            if mat[l][c]==1:\n",
    "                adj_list[vert_list[c]].append(vert_list[l])\n",
    "    return adj_list\n",
    "                \n",
    "from_adjacency_matrix(mat, [\"A\",\"B\",\"C\",\"E\",\"F\"])"
   ]
  },
  {
   "cell_type": "markdown",
   "metadata": {},
   "source": [
    "***********************************************************************"
   ]
  },
  {
   "cell_type": "markdown",
   "metadata": {},
   "source": [
    "CONCLUSION\n",
    "======================================================================="
   ]
  },
  {
   "cell_type": "markdown",
   "metadata": {},
   "source": [
    "On peut représenter un graphe :\n",
    "\n",
    "- par un diagramme ( en utilisant le logiciel Yed par exemple\n",
    "- par une liste d'adjacence\n",
    "- par une matrice d'adjacence\n"
   ]
  },
  {
   "cell_type": "markdown",
   "metadata": {},
   "source": [
    "***Remarque***  \n",
    "\n",
    "sur une matrice d'adjacence , on peut avoir un intérêt à inscrire sur la diagonale le **degré d'un sommet** ( son nombre de voisins ).  \n",
    "cela peut être uniquement fait si le graphe ne comporte pas de boucle ( un sommet en relation avec lui-même - à ne pas confondre avec un cycle ! - )\n",
    "la matrice obtenue est la **matrice hamiltonienne du graphe**."
   ]
  },
  {
   "cell_type": "markdown",
   "metadata": {},
   "source": [
    "***********************************************************************"
   ]
  },
  {
   "cell_type": "markdown",
   "metadata": {},
   "source": [
    "> **Références**  \n",
    "> - Yed : https://www.yworks.com/products/yed\n",
    "> - la chaine \"à la découverte des graphes\" : https://www.youtube.com/channel/UCHtJVeNLyR1yuJ1_xCK1WRg\n",
    "> - Packed : Python Data Structures and Algorithms ( Benjamin Baka )"
   ]
  }
 ],
 "metadata": {
  "celltoolbar": "Aucun(e)",
  "kernel_info": {
   "name": "python3"
  },
  "kernelspec": {
   "display_name": "Python 3",
   "language": "python",
   "name": "python3"
  },
  "language_info": {
   "codemirror_mode": {
    "name": "ipython",
    "version": 3
   },
   "file_extension": ".py",
   "mimetype": "text/x-python",
   "name": "python",
   "nbconvert_exporter": "python",
   "pygments_lexer": "ipython3",
   "version": "3.6.3"
  },
  "nteract": {
   "version": "0.14.5"
  }
 },
 "nbformat": 4,
 "nbformat_minor": 1
}
