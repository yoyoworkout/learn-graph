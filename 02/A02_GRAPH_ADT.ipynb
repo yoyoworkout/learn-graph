{
  "cells": [
    {
      "cell_type": "markdown",
      "source": [
        "GRAPHES : STRUCTURE DE DONNEES\n",
        "======================================================================="
      ],
      "metadata": {}
    },
    {
      "cell_type": "markdown",
      "source": [
        "> **Objet**  \n",
        "> ce docuement présente le type abstrait ***Graphe** et les éléments qui le composent : \n",
        "> - Sommet ( vertex )\n",
        "> - Arrête ( edge )\n",
        ">\n",
        "> d'autres notions peuvent intervenir ( face, région ... )  "
      ],
      "metadata": {}
    },
    {
      "cell_type": "markdown",
      "source": [
        "***********************************************************************"
      ],
      "metadata": {}
    },
    {
      "cell_type": "markdown",
      "source": [
        "I - ELEMENTS DU GRAPHE\n",
        "-----------------------------------------------------------------------"
      ],
      "metadata": {}
    },
    {
      "cell_type": "markdown",
      "source": [
        "###  Vertex"
      ],
      "metadata": {}
    },
    {
      "cell_type": "code",
      "source": [
        "class Node:\n",
        "    \"\"\"Node of a graph, labeled by it's id .\"\"\"\n",
        "    \n",
        "    def __init__(self, id):\n",
        "        self.id = id \n",
        "        self.meta = Node.Meta(self)\n",
        "    \n",
        "    def __repr__(self):\n",
        "        return str(self.id)\n",
        "    \n",
        "    class Meta:\n",
        "        \"\"\" Inner class for marks \"\"\" \n",
        "        \n",
        "        def __init__(self, node):\n",
        "            self.node = node"
      ],
      "outputs": [],
      "execution_count": 1,
      "metadata": {
        "collapsed": false,
        "outputHidden": false,
        "inputHidden": false
      }
    },
    {
      "cell_type": "markdown",
      "source": [
        "set node data"
      ],
      "metadata": {}
    },
    {
      "cell_type": "code",
      "source": [
        "# demo\n",
        "demo_node = Vertex(1)\n",
        "demo_node.meta.color = \"green\"\n",
        "demo_node"
      ],
      "outputs": [
        {
          "output_type": "error",
          "ename": "NameError",
          "evalue": "name 'Vertex' is not defined",
          "traceback": [
            "\u001b[0;31m---------------------------------------------------------------------------\u001b[0m",
            "\u001b[0;31mNameError\u001b[0m                                 Traceback (most recent call last)",
            "\u001b[0;32m<ipython-input-2-d70bb8f9ac29>\u001b[0m in \u001b[0;36m<module>\u001b[0;34m\u001b[0m\n\u001b[1;32m      1\u001b[0m \u001b[0;31m# demo\u001b[0m\u001b[0;34m\u001b[0m\u001b[0;34m\u001b[0m\u001b[0m\n\u001b[0;32m----> 2\u001b[0;31m \u001b[0mdemo_node\u001b[0m \u001b[0;34m=\u001b[0m \u001b[0mVertex\u001b[0m\u001b[0;34m(\u001b[0m\u001b[0;36m1\u001b[0m\u001b[0;34m)\u001b[0m\u001b[0;34m\u001b[0m\u001b[0m\n\u001b[0m\u001b[1;32m      3\u001b[0m \u001b[0mdemo_node\u001b[0m\u001b[0;34m.\u001b[0m\u001b[0mmeta\u001b[0m\u001b[0;34m.\u001b[0m\u001b[0mcolor\u001b[0m \u001b[0;34m=\u001b[0m \u001b[0;34m\"green\"\u001b[0m\u001b[0;34m\u001b[0m\u001b[0m\n\u001b[1;32m      4\u001b[0m \u001b[0mdemo_node\u001b[0m\u001b[0;34m\u001b[0m\u001b[0m\n",
            "\u001b[0;31mNameError\u001b[0m: name 'Vertex' is not defined"
          ]
        }
      ],
      "execution_count": 2,
      "metadata": {
        "collapsed": false,
        "outputHidden": false,
        "inputHidden": false
      }
    },
    {
      "cell_type": "markdown",
      "source": [
        "***Remarques***  \n",
        "\n",
        "- pour l'appellation , on utilise **Node** en structure de donnée ,  **Vertex** est utilisé en géométrie  \n",
        "- pour les données relatives aux traitement de algorithmes ( marquage de noeud ),  on utilise une classe interne  \n",
        "- pour la représentation,  on renvoit simplement l'identifiant à travers la méthode `__repr__` et non pas `__str__`\n"
      ],
      "metadata": {}
    },
    {
      "cell_type": "code",
      "source": [
        "class U():\n",
        "    def __str__(self):\n",
        "        return 'u'\n",
        "    \n",
        "demo_u = U()\n",
        "print(demo_u)                   # call of str(u)\n",
        "demo_u                          # call of repr(demo_u)  "
      ],
      "outputs": [
        {
          "output_type": "stream",
          "name": "stdout",
          "text": [
            "u\n"
          ]
        },
        {
          "output_type": "execute_result",
          "execution_count": 3,
          "data": {
            "text/plain": [
              "<__main__.U at 0x10daed080>"
            ]
          },
          "metadata": {}
        }
      ],
      "execution_count": 3,
      "metadata": {
        "collapsed": false,
        "outputHidden": false,
        "inputHidden": false
      }
    },
    {
      "cell_type": "markdown",
      "source": [
        "### Edge"
      ],
      "metadata": {}
    },
    {
      "cell_type": "code",
      "source": [
        "class Edge():\n",
        "    \"\"\"Couple of 2 vertices (nodes) in a graph\"\"\"\n",
        "    \n",
        "    def __init(self, start: Node , end: Node, weight: int=1):\n",
        "        self.start = start \n",
        "        self.end = end\n",
        "        self.weight = weight\n",
        "    \n",
        "    def __repr__(self):\n",
        "        return \"({},{},{})\".format(self.start.id, self.end.id, self.weight)\n",
        "    \n",
        "    def __eq__(self,edge):\n",
        "        s1,s2 = self.start.id, edge.start.id\n",
        "        e1,e2 = self.end.id , edge.end.id\n",
        "        return s1==s2 and e1==e2 or s1==e2 and e1==s2\n",
        "    \n",
        "    def to_tuple(self):\n",
        "        return tuple( self.start.id , self.end.id, self.weight)\n",
        "    "
      ],
      "outputs": [],
      "execution_count": 4,
      "metadata": {
        "collapsed": false,
        "outputHidden": false,
        "inputHidden": false
      }
    },
    {
      "cell_type": "code",
      "source": [
        "class Arc(Edge):\n",
        "    \"\"\"Oriented edge\"\"\"\n",
        "    \n",
        "    def __init__(self, start: Node , end: Node, weight: int=1):\n",
        "        self.oriented = True\n",
        "        super().__init__(start,end,weight)\n",
        "        \n",
        "    def __eq__(self,arc):\n",
        "        return self.end.id==arc.end.id and self.start.id==arc.start.id  "
      ],
      "outputs": [],
      "execution_count": 5,
      "metadata": {
        "collapsed": false,
        "outputHidden": false,
        "inputHidden": false
      }
    },
    {
      "cell_type": "code",
      "source": [
        "class Loop(Edge):\n",
        "    \"\"\"Edge with same origin and ending\"\"\"\n",
        "    \n",
        "    def __init__(self,node: Node):\n",
        "        super().__init__(start=node,end=node, weight=0)\n",
        "        "
      ],
      "outputs": [],
      "execution_count": 6,
      "metadata": {
        "collapsed": false,
        "outputHidden": false,
        "inputHidden": false
      }
    },
    {
      "cell_type": "markdown",
      "source": [
        "### Types de graphes\n",
        "\n",
        "- non orientés ou orientés  \n",
        "- non pondérés ou pondérés  \n",
        "- sans boucle ou avec boucles (**multigraphe**)"
      ],
      "metadata": {}
    },
    {
      "cell_type": "markdown",
      "source": [
        "Le type d'arrête est lié au type de graphe.  \n",
        "En pratique, l'intérêt des boucles est assez limité , on préfère écarter cette option dans les traitements."
      ],
      "metadata": {}
    },
    {
      "cell_type": "markdown",
      "source": [
        "\n",
        "***********************************************************************\n"
      ],
      "metadata": {}
    },
    {
      "cell_type": "markdown",
      "source": [
        "II - TYPDE ABSTRAIT GRAPHE\n",
        "-----------------------------------------------------------------------"
      ],
      "metadata": {}
    },
    {
      "cell_type": "markdown",
      "source": [
        "### Opérations sur Graphe"
      ],
      "metadata": {}
    },
    {
      "cell_type": "code",
      "source": [
        "from abc import ABC, abstractmethod\n",
        "class Graph(ABC): \n",
        "    \"\"\" Abstract class for graph operations \"\"\"\n",
        "    \n",
        "    def __init__(self, nodes, edges, oriented=False):\n",
        "        self.nodes = nodes\n",
        "        self.edges = edges \n",
        "        self.oriented = oriented\n",
        "    \n",
        "    @abstractmethod\n",
        "    def add_node(self,node): \n",
        "        pass\n",
        "    \n",
        "    @abstractmethod\n",
        "    def remove_node(self,node): \n",
        "        pass\n",
        "        \n",
        "    @abstractmethod\n",
        "    def add_edge(self,start_node,end_node): \n",
        "        pass\n",
        "    \n",
        "    @abstractmethod\n",
        "    def remove_edge(self,start_node,end_node): \n",
        "        pass    \n",
        "    "
      ],
      "outputs": [],
      "execution_count": 7,
      "metadata": {
        "collapsed": false,
        "outputHidden": false,
        "inputHidden": false
      }
    },
    {
      "cell_type": "code",
      "source": [
        "# aliases to shorten names\n",
        "N = Node\n",
        "E = Edge\n",
        "G = Graph"
      ],
      "outputs": [],
      "execution_count": 8,
      "metadata": {
        "collapsed": false,
        "outputHidden": false,
        "inputHidden": false
      }
    },
    {
      "cell_type": "markdown",
      "source": [
        "\n",
        "***********************************************************************"
      ],
      "metadata": {}
    },
    {
      "cell_type": "markdown",
      "source": [
        "*phrase de conclusion*"
      ],
      "metadata": {}
    }
  ],
  "metadata": {
    "kernel_info": {
      "name": "python3"
    },
    "language_info": {
      "name": "python",
      "version": "3.6.3",
      "mimetype": "text/x-python",
      "codemirror_mode": {
        "name": "ipython",
        "version": 3
      },
      "pygments_lexer": "ipython3",
      "nbconvert_exporter": "python",
      "file_extension": ".py"
    },
    "kernelspec": {
      "name": "python3",
      "language": "python",
      "display_name": "Python 3"
    },
    "nteract": {
      "version": "0.14.5"
    }
  },
  "nbformat": 4,
  "nbformat_minor": 0
}